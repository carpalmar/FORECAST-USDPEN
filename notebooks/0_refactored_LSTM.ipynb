{
 "cells": [
  {
   "cell_type": "markdown",
   "id": "7fb27b941602401d91542211134fc71a",
   "metadata": {},
   "source": [
    "# Refactored LSTM Forecasting Pipeline\n",
    "\n",
    "This notebook demonstrates how to use the `forecast-usdpen` package to run a forecasting pipeline for the LSTM model."
   ]
  },
  {
   "cell_type": "markdown",
   "id": "acae54e37e7d407bbb7b55eff062a284",
   "metadata": {},
   "source": [
    "## 1. Installation\n",
    "\n",
    "First, install the package in editable mode. This allows you to make changes to the source code and have them reflected immediately."
   ]
  },
  {
   "cell_type": "code",
   "execution_count": null,
   "id": "9a63283cbaf04dbcab1f6479b197f3a8",
   "metadata": {},
   "outputs": [],
   "source": [
    "%pip install -e ."
   ]
  },
  {
   "cell_type": "markdown",
   "id": "8dd0d8092fe74a7c96281538738b07e2",
   "metadata": {},
   "source": [
    "## 2. Configuration\n",
    "\n",
    "We will use a YAML configuration file to specify all the parameters for our pipeline run. This makes the experiment reproducible."
   ]
  },
  {
   "cell_type": "code",
   "execution_count": null,
   "id": "72eea5119410473aa328ad9291626812",
   "metadata": {},
   "outputs": [],
   "source": [
    "import yaml\n",
    "\n",
    "config = {\n",
    "    \"data\": {\n",
    "        \"path\": \"../monthly_data.csv\",  # Path relative to where the package is run\n",
    "        \"date_col\": \"DATES\",\n",
    "        \"value_col\": \"PEN\",\n",
    "        \"freq\": \"M\",\n",
    "    },\n",
    "    \"forecasting\": {\n",
    "        \"horizon\": 72,  # Match original notebook's test set size\n",
    "        \"train_split\": 0.8,\n",
    "    },\n",
    "    \"model\": {\n",
    "        \"name\": \"lstm\",\n",
    "        \"hyperparameters\": {\n",
    "            \"sequence_length\": 9,\n",
    "            \"lstm_units_1\": 125,\n",
    "            \"lstm_units_2\": 54,\n",
    "            \"dropout_1\": 0.187,\n",
    "            \"dropout_2\": 0.184,\n",
    "            \"learning_rate\": 0.0098,\n",
    "            \"epochs\": 100,\n",
    "            \"batch_size\": 16,\n",
    "        },\n",
    "    },\n",
    "    \"output\": {\n",
    "        \"artifacts_path\": \"../artifacts/lstm\",\n",
    "        \"metrics_file\": \"metrics.json\",\n",
    "        \"forecasts_file\": \"forecasts.csv\",\n",
    "        \"plot_file\": \"lstm_forecast.png\",\n",
    "    },\n",
    "}\n",
    "\n",
    "config_path = \"../configs/lstm_config.yaml\"\n",
    "with open(config_path, \"w\") as f:\n",
    "    yaml.dump(config, f, default_flow_style=False)\n",
    "\n",
    "print(f\"Configuration saved to {config_path}\")"
   ]
  },
  {
   "cell_type": "markdown",
   "id": "8edb47106e1a46a883d545849b8ab81b",
   "metadata": {},
   "source": [
    "## 3. Run Pipeline\n",
    "\n",
    "Now, we can run the pipeline using the configuration file we just created."
   ]
  },
  {
   "cell_type": "code",
   "execution_count": null,
   "id": "10185d26023b46108eb7d9f57d49d2b3",
   "metadata": {},
   "outputs": [],
   "source": [
    "from forecast_usdpen.forecasting.pipeline import run_pipeline\n",
    "\n",
    "results = run_pipeline(config_path=config_path)"
   ]
  },
  {
   "cell_type": "markdown",
   "id": "8763a12b2bbd4a93a75aff182afb95dc",
   "metadata": {},
   "source": [
    "## 4. Display Results\n",
    "\n",
    "The pipeline saves the artifacts to the specified directory. Let's load and display the plot and the metrics."
   ]
  },
  {
   "cell_type": "code",
   "execution_count": null,
   "id": "7623eae2785240b9bd12b16a66d81610",
   "metadata": {},
   "outputs": [],
   "source": [
    "import json\n",
    "from IPython.display import Image, display\n",
    "\n",
    "print(\"--- Metrics ---\")\n",
    "with open(results[\"artifacts\"][\"metrics\"], \"r\") as f:\n",
    "    metrics = json.load(f)\n",
    "    print(json.dumps(metrics, indent=4))\n",
    "\n",
    "print(\"\\n--- Forecast Plot ---\")\n",
    "display(Image(filename=results[\"artifacts\"][\"plot\"]))"
   ]
  }
 ],
 "metadata": {
  "kernelspec": {
   "display_name": "Python 3 (ipykernel)",
   "language": "python",
   "name": "python3"
  },
  "language_info": {
   "codemirror_mode": {
    "name": "ipython",
    "version": 3
   },
   "file_extension": ".py",
   "mimetype": "text/x-python",
   "name": "python",
   "nbconvert_exporter": "python",
   "pygments_lexer": "ipython3",
   "version": "3.11.5"
  }
 },
 "nbformat": 4,
 "nbformat_minor": 5
}
